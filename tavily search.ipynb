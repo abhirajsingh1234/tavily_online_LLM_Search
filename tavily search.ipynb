{
 "cells": [
  {
   "cell_type": "code",
   "execution_count": null,
   "id": "9725e868-6cbb-440c-b66d-71179d0d0f36",
   "metadata": {},
   "outputs": [],
   "source": [
    "def web_search(query, num_results=3):\n",
    "    api_key = os.getenv(\"TAVILY_API_KEY\")  # Get API key from environment variable\n",
    "    if not api_key:\n",
    "        raise ValueError(\"Tavily API key is missing! Set 'TAVILY_API_KEY' as an environment variable.\")\n",
    "\n",
    "    url = \"https://api.tavily.com/search\"  # Tavily API endpoint\n",
    "\n",
    "    headers = {\n",
    "        \"Content-Type\": \"application/json\",\n",
    "        \"Authorization\": f\"Bearer {api_key}\"  # Use Bearer Token authentication\n",
    "    }\n",
    "\n",
    "    payload = {\n",
    "        \"query\": query,\n",
    "        \"num_results\": num_results\n",
    "    }\n",
    "\n",
    "    try:\n",
    "        response = requests.post(url, json=payload, headers=headers)  # Use POST instead of GET\n",
    "        response.raise_for_status()  # Raise error for bad responses (4xx, 5xx)\n",
    "        data = response.json()\n",
    "        if \"results\" in data and data[\"results\"]:\n",
    "            return \"\\n\".join([res[\"content\"] for res in data[\"results\"]])\n",
    "        else:\n",
    "            return \"No results found.\""
   ]
  }
 ],
 "metadata": {
  "kernelspec": {
   "display_name": "Python 3 (ipykernel)",
   "language": "python",
   "name": "python3"
  },
  "language_info": {
   "codemirror_mode": {
    "name": "ipython",
    "version": 3
   },
   "file_extension": ".py",
   "mimetype": "text/x-python",
   "name": "python",
   "nbconvert_exporter": "python",
   "pygments_lexer": "ipython3",
   "version": "3.10.0"
  }
 },
 "nbformat": 4,
 "nbformat_minor": 5
}
